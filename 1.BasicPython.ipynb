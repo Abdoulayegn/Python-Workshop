{
 "metadata": {
  "celltoolbar": "Slideshow",
  "name": "",
  "signature": "sha256:e56d11a8bc18b94060fc883cd4e149c718b63dde2be170c72c7dbc756bde8833"
 },
 "nbformat": 3,
 "nbformat_minor": 0,
 "worksheets": [
  {
   "cells": [
    {
     "cell_type": "heading",
     "level": 1,
     "metadata": {
      "slideshow": {
       "slide_type": "slide"
      }
     },
     "source": [
      "Basic Python"
     ]
    },
    {
     "cell_type": "heading",
     "level": 4,
     "metadata": {
      "slideshow": {
       "slide_type": "-"
      }
     },
     "source": [
      "Quentin CAUDRON \n",
      "<br />\n",
      "<br />\n",
      "\n",
      "Ecology and Evolutionary Biology\n",
      "<br />\n",
      "<br />\n",
      "\n",
      "qcaudron@princeton.edu\n",
      "<br />\n",
      "<br />\n",
      "\n",
      "@QuentinCAUDRON"
     ]
    },
    {
     "cell_type": "markdown",
     "metadata": {
      "slideshow": {
       "slide_type": "slide"
      }
     },
     "source": [
      "This section moves quickly. I'm assuming that everyone speaks at least one programming language well, and / or has introductory Python experience, and so this chapter gives a lightning intro to syntax in Python. The sections are subheaded, but they really overlap quite a lot, so they're there more as a page reference..."
     ]
    },
    {
     "cell_type": "heading",
     "level": 2,
     "metadata": {
      "slideshow": {
       "slide_type": "slide"
      }
     },
     "source": [
      "Variables and Arithmetic"
     ]
    },
    {
     "cell_type": "code",
     "collapsed": false,
     "input": [
      "print \"He said, 'what ?' \\n\""
     ],
     "language": "python",
     "metadata": {},
     "outputs": [
      {
       "output_type": "stream",
       "stream": "stdout",
       "text": [
        "He said, 'what ?' \n",
        "\n"
       ]
      }
     ],
     "prompt_number": 1
    },
    {
     "cell_type": "markdown",
     "metadata": {
      "slideshow": {
       "slide_type": "skip"
      }
     },
     "source": [
      "Strings are delimited by `\"`, but can also use `'`. This is useful because you can now use one set of quotes inside another, and it'll still be one big string."
     ]
    },
    {
     "cell_type": "code",
     "collapsed": false,
     "input": [
      "s = \"This is a string.\"\n",
      "print s\n",
      "print type(s)\n",
      "print len(s)"
     ],
     "language": "python",
     "metadata": {
      "slideshow": {
       "slide_type": "subslide"
      }
     },
     "outputs": [
      {
       "output_type": "stream",
       "stream": "stdout",
       "text": [
        "This is a string.\n",
        "<type 'str'>\n",
        "17\n"
       ]
      }
     ],
     "prompt_number": 2
    },
    {
     "cell_type": "code",
     "collapsed": false,
     "input": [
      "s = 42\n",
      "print s\n",
      "print type(s)"
     ],
     "language": "python",
     "metadata": {
      "slideshow": {
       "slide_type": "fragment"
      }
     },
     "outputs": [
      {
       "output_type": "stream",
       "stream": "stdout",
       "text": [
        "42\n",
        "<type 'int'>\n"
       ]
      }
     ],
     "prompt_number": 3
    },
    {
     "cell_type": "markdown",
     "metadata": {
      "slideshow": {
       "slide_type": "fragment"
      }
     },
     "source": [
      "Variables don't need to be given a type, as Python is *dynamically-typed*. That means if I wanted to reuse `s` as an integer, Python would have no issue with that."
     ]
    },
    {
     "cell_type": "code",
     "collapsed": false,
     "input": [
      "print s * 2\n",
      "print s + 7\n",
      "# Neither statement modify the variable."
     ],
     "language": "python",
     "metadata": {
      "slideshow": {
       "slide_type": "subslide"
      }
     },
     "outputs": [
      {
       "output_type": "stream",
       "stream": "stdout",
       "text": [
        "84\n",
        "49\n"
       ]
      }
     ],
     "prompt_number": 4
    },
    {
     "cell_type": "markdown",
     "metadata": {
      "slideshow": {
       "slide_type": "-"
      }
     },
     "source": [
      "Single-line comments use `#`. \n",
      "\n",
      "Arithmetic uses the standard operators : `+`, `-`, `*`, `/`. \n",
      "\n",
      "You can take powers using `**`. "
     ]
    },
    {
     "cell_type": "markdown",
     "metadata": {
      "slideshow": {
       "slide_type": "subslide"
      }
     },
     "source": [
      "Python also allows `+=` syntax :"
     ]
    },
    {
     "cell_type": "code",
     "collapsed": false,
     "input": [
      "s += 2**3 # s is being incremented by 2^3\n",
      "print \"Same as s = s + 2**3\"\n",
      "print s"
     ],
     "language": "python",
     "metadata": {
      "slideshow": {
       "slide_type": "-"
      }
     },
     "outputs": [
      {
       "output_type": "stream",
       "stream": "stdout",
       "text": [
        "Same as s = s + 2**3\n",
        "50\n"
       ]
      }
     ],
     "prompt_number": 5
    },
    {
     "cell_type": "markdown",
     "metadata": {
      "slideshow": {
       "slide_type": "-"
      }
     },
     "source": [
      "This statement is equivalent to saying `s = s + 2**3`, it's just shorthand. Also works with `-=`, `*=`, `/=`, `**=`"
     ]
    },
    {
     "cell_type": "code",
     "collapsed": false,
     "input": [
      "print s == 42\n",
      "print s == 50\n",
      "print s > 10"
     ],
     "language": "python",
     "metadata": {
      "slideshow": {
       "slide_type": "subslide"
      }
     },
     "outputs": [
      {
       "output_type": "stream",
       "stream": "stdout",
       "text": [
        "False\n",
        "True\n",
        "True\n"
       ]
      }
     ],
     "prompt_number": 6
    },
    {
     "cell_type": "markdown",
     "metadata": {
      "slideshow": {
       "slide_type": "-"
      }
     },
     "source": [
      "The `==` operator is the *comparison* operator. Here, we also see Python's syntax for logical statements : `True` and `False`. As with any programming syntax, capitalisation is important. In Python, `1` is also `True`, and `0` is also `False`."
     ]
    },
    {
     "cell_type": "code",
     "collapsed": false,
     "input": [
      "x = \"Blah\"\n",
      "print x + x\n",
      "print len(x)"
     ],
     "language": "python",
     "metadata": {
      "slideshow": {
       "slide_type": "subslide"
      }
     },
     "outputs": [
      {
       "output_type": "stream",
       "stream": "stdout",
       "text": [
        "BlahBlah\n",
        "4\n"
       ]
      }
     ],
     "prompt_number": 7
    },
    {
     "cell_type": "markdown",
     "metadata": {},
     "source": [
      "Strings can be concatenated using the `+` operator. The `len()` function returns the length of a string."
     ]
    },
    {
     "cell_type": "heading",
     "level": 2,
     "metadata": {
      "slideshow": {
       "slide_type": "slide"
      }
     },
     "source": [
      "Lists"
     ]
    },
    {
     "cell_type": "code",
     "collapsed": false,
     "input": [
      "mylist = [1, 2.41341]\n",
      "mylist.append(\"We can mix types !\")\n",
      "\n",
      "print mylist\n",
      "print type(mylist)"
     ],
     "language": "python",
     "metadata": {},
     "outputs": [
      {
       "output_type": "stream",
       "stream": "stdout",
       "text": [
        "[1, 2.41341, 'We can mix types !']\n",
        "<type 'list'>\n"
       ]
      }
     ],
     "prompt_number": 8
    },
    {
     "cell_type": "markdown",
     "metadata": {
      "slideshow": {
       "slide_type": "subslide"
      }
     },
     "source": [
      "Python accesses elements in lists from 0, not from 1 as in Matlab or R. This will be familiar to C users."
     ]
    },
    {
     "cell_type": "code",
     "collapsed": false,
     "input": [
      "print mylist, \"\\n\"\n",
      "\n",
      "print mylist[0]\n",
      "print mylist[1]\n",
      "print mylist[2]"
     ],
     "language": "python",
     "metadata": {
      "slideshow": {
       "slide_type": "-"
      }
     },
     "outputs": [
      {
       "output_type": "stream",
       "stream": "stdout",
       "text": [
        "[1, 2.41341, 'We can mix types !'] \n",
        "\n",
        "1\n",
        "2.41341\n",
        "We can mix types !\n"
       ]
      }
     ],
     "prompt_number": 9
    },
    {
     "cell_type": "markdown",
     "metadata": {
      "slideshow": {
       "slide_type": "subslide"
      }
     },
     "source": [
      "Lists have several methods ( `count`, `sort`, `reverse`, `pop`, `insert`, `remove`, ... ). Here are a few."
     ]
    },
    {
     "cell_type": "code",
     "collapsed": false,
     "input": [
      "print \"Length is %d long.\\n\" % len(mylist)\n",
      "\n",
      "print \"There are %d ones in this list.\\n\" % mylist.count(1)\n",
      "\n",
      "mylist.reverse()\n",
      "print \"Reversed ! \", mylist"
     ],
     "language": "python",
     "metadata": {},
     "outputs": [
      {
       "output_type": "stream",
       "stream": "stdout",
       "text": [
        "Length is 3 long.\n",
        "\n",
        "There are 1 ones in this list.\n",
        "\n",
        "Reversed !  ['We can mix types !', 2.41341, 1]\n"
       ]
      }
     ],
     "prompt_number": 10
    },
    {
     "cell_type": "heading",
     "level": 2,
     "metadata": {
      "slideshow": {
       "slide_type": "slide"
      }
     },
     "source": [
      "Control Structures"
     ]
    },
    {
     "cell_type": "markdown",
     "metadata": {},
     "source": [
      "Python objects like lists are *iterables*. That is, we can directly iterate over them :"
     ]
    },
    {
     "cell_type": "code",
     "collapsed": false,
     "input": [
      "for i in mylist :\n",
      "    print i\n",
      "    print \"Hello\\n\"\n",
      "print \"Finished\""
     ],
     "language": "python",
     "metadata": {},
     "outputs": [
      {
       "output_type": "stream",
       "stream": "stdout",
       "text": [
        "We can mix types !\n",
        "Hello\n",
        "\n",
        "2.41341\n",
        "Hello\n",
        "\n",
        "1\n",
        "Hello\n",
        "\n",
        "Finished\n"
       ]
      }
     ],
     "prompt_number": 11
    },
    {
     "cell_type": "markdown",
     "metadata": {},
     "source": [
      "*Note the indentation*. Loops in Python don't get delimited by brackets like in C or R. Each block gets its own indentation."
     ]
    },
    {
     "cell_type": "markdown",
     "metadata": {
      "slideshow": {
       "slide_type": "skip"
      }
     },
     "source": [
      "Typically, people use tabs, but you can use any amount of whitespace you want *as long as you are consistent*. To end the loop, simply unindent. We'll see that in a few lines."
     ]
    },
    {
     "cell_type": "markdown",
     "metadata": {
      "slideshow": {
       "slide_type": "subslide"
      }
     },
     "source": [
      "Users of languages like C or Java, where code blocks are delimited by curly braces, sometimes ask that they be made available in Python.\n",
      "\n",
      "    for i in range {\n",
      "        do something to i\n",
      "    }\n",
      "    \n",
      "Python's `__future__` module has already taken care of this."
     ]
    },
    {
     "cell_type": "code",
     "collapsed": false,
     "input": [
      "from __future__ import braces"
     ],
     "language": "python",
     "metadata": {
      "slideshow": {
       "slide_type": "fragment"
      }
     },
     "outputs": [
      {
       "ename": "SyntaxError",
       "evalue": "not a chance (<ipython-input-12-2aebb3fc8ecf>, line 1)",
       "output_type": "pyerr",
       "traceback": [
        "\u001b[0;36m  File \u001b[0;32m\"<ipython-input-12-2aebb3fc8ecf>\"\u001b[0;36m, line \u001b[0;32m1\u001b[0m\n\u001b[0;31m    from __future__ import braces\u001b[0m\n\u001b[0;31mSyntaxError\u001b[0m\u001b[0;31m:\u001b[0m not a chance\n"
       ]
      }
     ],
     "prompt_number": 12
    },
    {
     "cell_type": "markdown",
     "metadata": {
      "slideshow": {
       "slide_type": "subslide"
      }
     },
     "source": [
      "The keyword `in` can also be used to check whether something is in a container :\n"
     ]
    },
    {
     "cell_type": "code",
     "collapsed": false,
     "input": [
      "print (1 in mylist)\n",
      "print (2 in mylist)"
     ],
     "language": "python",
     "metadata": {},
     "outputs": [
      {
       "output_type": "stream",
       "stream": "stdout",
       "text": [
        "True\n",
        "False\n"
       ]
      }
     ],
     "prompt_number": 13
    },
    {
     "cell_type": "markdown",
     "metadata": {
      "slideshow": {
       "slide_type": "subslide"
      }
     },
     "source": [
      "If you wanted to loop by indexing the list, we can use `range()`, which, in its simplest ( single-argument ) form, returns a list from 0 to that element minus 1."
     ]
    },
    {
     "cell_type": "code",
     "collapsed": false,
     "input": [
      "for i in range(len(mylist)) :\n",
      "    print i, mylist[i]"
     ],
     "language": "python",
     "metadata": {},
     "outputs": [
      {
       "output_type": "stream",
       "stream": "stdout",
       "text": [
        "0 We can mix types !\n",
        "1 2.41341\n",
        "2 1\n"
       ]
      }
     ],
     "prompt_number": 14
    },
    {
     "cell_type": "markdown",
     "metadata": {
      "slideshow": {
       "slide_type": "subslide"
      }
     },
     "source": [
      "Another way to do this is the `enumerate` function :"
     ]
    },
    {
     "cell_type": "code",
     "collapsed": false,
     "input": [
      "for index, value in enumerate(mylist) :\n",
      "    print(\"Element number %d in the list has the value %s\" % (index, value))"
     ],
     "language": "python",
     "metadata": {},
     "outputs": [
      {
       "output_type": "stream",
       "stream": "stdout",
       "text": [
        "Element number 0 in the list has the value We can mix types !\n",
        "Element number 1 in the list has the value 2.41341\n",
        "Element number 2 in the list has the value 1\n"
       ]
      }
     ],
     "prompt_number": 15
    },
    {
     "cell_type": "markdown",
     "metadata": {
      "slideshow": {
       "slide_type": "fragment"
      }
     },
     "source": [
      "- `%d` - \"decimal\", any integer number ( poorly named... )\n",
      "- `%i` - integer; as `%d`\n",
      "- `%f` - floating point number; things like -3.422135\n",
      "- `%s` - string\n",
      "\n",
      "Note that we typecast the `value` object as a string. All Python objects have string representations. "
     ]
    },
    {
     "cell_type": "markdown",
     "metadata": {
      "slideshow": {
       "slide_type": "subslide"
      }
     },
     "source": [
      "Great. What about while loops and if statements ?"
     ]
    },
    {
     "cell_type": "code",
     "collapsed": false,
     "input": [
      "x = 5\n",
      "\n",
      "if x > 3 :\n",
      "    print \"x is greater than 3.\"\n",
      "    \n",
      "elif x == 5 :\n",
      "    print \"We aren't going to see this. Why ?\"\n",
      "    \n",
      "else :\n",
      "    print \"x is not greater than 3.\"\n",
      "    \n",
      "print \"We can see this, it's not in the if statement.\""
     ],
     "language": "python",
     "metadata": {},
     "outputs": [
      {
       "output_type": "stream",
       "stream": "stdout",
       "text": [
        "x is greater than 3.\n",
        "We can see this, it's not in the if statement.\n"
       ]
      }
     ],
     "prompt_number": 16
    },
    {
     "cell_type": "markdown",
     "metadata": {},
     "source": [
      "Notice how the contents of the while loop are indented, and then code that is outside the loop continues unindented below."
     ]
    },
    {
     "cell_type": "markdown",
     "metadata": {
      "slideshow": {
       "slide_type": "subslide"
      }
     },
     "source": [
      "Here's a nested loop to clarify :"
     ]
    },
    {
     "cell_type": "code",
     "collapsed": false,
     "input": [
      "for outer in range(1, 3) :\n",
      "    print \"BIG CLICK, outer loop change to %d\" % outer\n",
      "    \n",
      "    for inner in range(4) :\n",
      "        print \"*little click*, outer is %d, and inner is %d.\" % (outer, inner)\n",
      "        \n",
      "print \"I'm done here.\""
     ],
     "language": "python",
     "metadata": {},
     "outputs": [
      {
       "output_type": "stream",
       "stream": "stdout",
       "text": [
        "BIG CLICK, outer loop change to 1\n",
        "*little click*, outer is 1, and inner is 0.\n",
        "*little click*, outer is 1, and inner is 1.\n",
        "*little click*, outer is 1, and inner is 2.\n",
        "*little click*, outer is 1, and inner is 3.\n",
        "BIG CLICK, outer loop change to 2\n",
        "*little click*, outer is 2, and inner is 0.\n",
        "*little click*, outer is 2, and inner is 1.\n",
        "*little click*, outer is 2, and inner is 2.\n",
        "*little click*, outer is 2, and inner is 3.\n",
        "I'm done here.\n"
       ]
      }
     ],
     "prompt_number": 17
    },
    {
     "cell_type": "markdown",
     "metadata": {
      "slideshow": {
       "slide_type": "skip"
      }
     },
     "source": [
      "Here, we used `range()` with two arguments. It generates a list from the first argument to the second argument minus 1. Also, note that we can feed the `print` statement several things to print, separated by a comma. Again, we can use brackets if we want for `print`."
     ]
    },
    {
     "cell_type": "heading",
     "level": 2,
     "metadata": {
      "slideshow": {
       "slide_type": "slide"
      }
     },
     "source": [
      "Interacting Between Different Variable Types"
     ]
    },
    {
     "cell_type": "markdown",
     "metadata": {
      "slideshow": {
       "slide_type": "skip"
      }
     },
     "source": [
      "Beware of integer division. Unlike R, Python doesn't assume that everything is a float unless explicitly told; it recognises that `2` is an integer, and this can be good and bad."
     ]
    },
    {
     "cell_type": "code",
     "collapsed": false,
     "input": [
      "myint = 2\n",
      "myfloat = 3.14\n",
      "print type(myint), type(myfloat)"
     ],
     "language": "python",
     "metadata": {},
     "outputs": [
      {
       "output_type": "stream",
       "stream": "stdout",
       "text": [
        "<type 'int'> <type 'float'>\n"
       ]
      }
     ],
     "prompt_number": 18
    },
    {
     "cell_type": "code",
     "collapsed": false,
     "input": [
      "# Multiplying an int with a float gives a float : the int was promoted.\n",
      "print myint * myfloat\n",
      "print type(myint * myfloat)"
     ],
     "language": "python",
     "metadata": {
      "slideshow": {
       "slide_type": "fragment"
      }
     },
     "outputs": [
      {
       "output_type": "stream",
       "stream": "stdout",
       "text": [
        "6.28\n",
        "<type 'float'>\n"
       ]
      }
     ],
     "prompt_number": 19
    },
    {
     "cell_type": "code",
     "collapsed": false,
     "input": [
      "# But operations between same type gives the same type :\n",
      "print 7 / 3\n",
      "print type(7/3) # uh oh"
     ],
     "language": "python",
     "metadata": {
      "slideshow": {
       "slide_type": "subslide"
      }
     },
     "outputs": [
      {
       "output_type": "stream",
       "stream": "stdout",
       "text": [
        "2\n",
        "<type 'int'>\n"
       ]
      }
     ],
     "prompt_number": 20
    },
    {
     "cell_type": "code",
     "collapsed": false,
     "input": [
      "# Quick hack with ints to floats - there's no need to typecast, just give it a float \n",
      "print float(7) / 3\n",
      "print 7 / 3.0"
     ],
     "language": "python",
     "metadata": {
      "slideshow": {
       "slide_type": "fragment"
      }
     },
     "outputs": [
      {
       "output_type": "stream",
       "stream": "stdout",
       "text": [
        "2.33333333333\n",
        "2.33333333333\n"
       ]
      }
     ],
     "prompt_number": 21
    },
    {
     "cell_type": "heading",
     "level": 2,
     "metadata": {
      "slideshow": {
       "slide_type": "slide"
      }
     },
     "source": [
      "More Lists : Accessing Elements"
     ]
    },
    {
     "cell_type": "markdown",
     "metadata": {
      "slideshow": {
       "slide_type": "skip"
      }
     },
     "source": [
      "Let's go back to lists. They're a type of generic, ordered container; their elements can be accessed in several ways."
     ]
    },
    {
     "cell_type": "code",
     "collapsed": false,
     "input": [
      "# Create a list of integers 0, 1, 2, 3, 4\n",
      "A = range(5)\n",
      "print A"
     ],
     "language": "python",
     "metadata": {},
     "outputs": [
      {
       "output_type": "stream",
       "stream": "stdout",
       "text": [
        "[0, 1, 2, 3, 4]\n"
       ]
      }
     ],
     "prompt_number": 22
    },
    {
     "cell_type": "code",
     "collapsed": false,
     "input": [
      "# Let's replace the middle element\n",
      "A[2] = \"Naaaaah\"\n",
      "print A"
     ],
     "language": "python",
     "metadata": {
      "slideshow": {
       "slide_type": "fragment"
      }
     },
     "outputs": [
      {
       "output_type": "stream",
       "stream": "stdout",
       "text": [
        "[0, 1, 'Naaaaah', 3, 4]\n"
       ]
      }
     ],
     "prompt_number": 23
    },
    {
     "cell_type": "markdown",
     "metadata": {
      "slideshow": {
       "slide_type": "subslide"
      }
     },
     "source": [
      "What are the middle three elements ? Let's use the `:` operator. Like `range()`, it creates a list of integers.\n",
      "\n",
      "`[1:4]` will give us elements 1, 2, and 3, because we stop at n-1, like with `range()`."
     ]
    },
    {
     "cell_type": "code",
     "collapsed": false,
     "input": [
      "print A[1:4]"
     ],
     "language": "python",
     "metadata": {
      "slideshow": {
       "slide_type": "-"
      }
     },
     "outputs": [
      {
       "output_type": "stream",
       "stream": "stdout",
       "text": [
        "[1, 'Naaaaah', 3]\n"
       ]
      }
     ],
     "prompt_number": 24
    },
    {
     "cell_type": "markdown",
     "metadata": {
      "slideshow": {
       "slide_type": "subslide"
      }
     },
     "source": [
      "We don't need to give a start or an end :"
     ]
    },
    {
     "cell_type": "code",
     "collapsed": false,
     "input": [
      "print A[:2]\n",
      "print A[2:]"
     ],
     "language": "python",
     "metadata": {
      "slideshow": {
       "slide_type": "-"
      }
     },
     "outputs": [
      {
       "output_type": "stream",
       "stream": "stdout",
       "text": [
        "[0, 1]\n",
        "['Naaaaah', 3, 4]\n"
       ]
      }
     ],
     "prompt_number": 25
    },
    {
     "cell_type": "markdown",
     "metadata": {
      "slideshow": {
       "slide_type": "subslide"
      }
     },
     "source": [
      "Can we access the last element ? What about the last two ?"
     ]
    },
    {
     "cell_type": "code",
     "collapsed": false,
     "input": [
      "print A[len(A)-2:]\n",
      "print A[-2:]"
     ],
     "language": "python",
     "metadata": {},
     "outputs": [
      {
       "output_type": "stream",
       "stream": "stdout",
       "text": [
        "[3, 4]\n",
        "[3, 4]\n"
       ]
      }
     ],
     "prompt_number": 26
    },
    {
     "cell_type": "markdown",
     "metadata": {
      "slideshow": {
       "slide_type": "subslide"
      }
     },
     "source": [
      "Earlier, we saw that `range()` can take two arguments : `range(start, finish)`. It can actually take a third : `range(start, finish, stride)`."
     ]
    },
    {
     "cell_type": "code",
     "collapsed": false,
     "input": [
      "print range(0, 5, 2)"
     ],
     "language": "python",
     "metadata": {
      "slideshow": {
       "slide_type": "-"
      }
     },
     "outputs": [
      {
       "output_type": "stream",
       "stream": "stdout",
       "text": [
        "[0, 2, 4]\n"
       ]
      }
     ],
     "prompt_number": 27
    },
    {
     "cell_type": "markdown",
     "metadata": {},
     "source": [
      "The `:` operator can also do the same."
     ]
    },
    {
     "cell_type": "code",
     "collapsed": false,
     "input": [
      "print A[0:5:2]\n",
      "# Here, it will give us elements 0, 2, 4."
     ],
     "language": "python",
     "metadata": {},
     "outputs": [
      {
       "output_type": "stream",
       "stream": "stdout",
       "text": [
        "[0, 'Naaaaah', 4]\n"
       ]
      }
     ],
     "prompt_number": 28
    },
    {
     "cell_type": "markdown",
     "metadata": {
      "slideshow": {
       "slide_type": "subslide"
      }
     },
     "source": [
      "What if I don't want to explicitly remember the size of the list ?"
     ]
    },
    {
     "cell_type": "code",
     "collapsed": false,
     "input": [
      "# This will simply go from start to finish with a stride of 2\n",
      "print A[::2]"
     ],
     "language": "python",
     "metadata": {},
     "outputs": [
      {
       "output_type": "stream",
       "stream": "stdout",
       "text": [
        "[0, 'Naaaaah', 4]\n"
       ]
      }
     ],
     "prompt_number": 29
    },
    {
     "cell_type": "code",
     "collapsed": false,
     "input": [
      "# And this one, from the second element to finish, with a stride of 2\n",
      "print A[1::2]"
     ],
     "language": "python",
     "metadata": {
      "slideshow": {
       "slide_type": "fragment"
      }
     },
     "outputs": [
      {
       "output_type": "stream",
       "stream": "stdout",
       "text": [
        "[1, 3]\n"
       ]
      }
     ],
     "prompt_number": 30
    },
    {
     "cell_type": "code",
     "collapsed": false,
     "input": [
      "# So, uh... Reverse ?\n",
      "print A[::-1]"
     ],
     "language": "python",
     "metadata": {
      "slideshow": {
       "slide_type": "fragment"
      }
     },
     "outputs": [
      {
       "output_type": "stream",
       "stream": "stdout",
       "text": [
        "[4, 3, 'Naaaaah', 1, 0]\n"
       ]
      }
     ],
     "prompt_number": 31
    },
    {
     "cell_type": "markdown",
     "metadata": {
      "slideshow": {
       "slide_type": "subslide"
      }
     },
     "source": [
      "List arithmetic ?"
     ]
    },
    {
     "cell_type": "code",
     "collapsed": false,
     "input": [
      "print A + A\n",
      "print A * 3"
     ],
     "language": "python",
     "metadata": {},
     "outputs": [
      {
       "output_type": "stream",
       "stream": "stdout",
       "text": [
        "[0, 1, 'Naaaaah', 3, 4, 0, 1, 'Naaaaah', 3, 4]\n",
        "[0, 1, 'Naaaaah', 3, 4, 0, 1, 'Naaaaah', 3, 4, 0, 1, 'Naaaaah', 3, 4]\n"
       ]
      }
     ],
     "prompt_number": 32
    },
    {
     "cell_type": "heading",
     "level": 2,
     "metadata": {
      "slideshow": {
       "slide_type": "slide"
      }
     },
     "source": [
      "Dictionaries"
     ]
    },
    {
     "cell_type": "markdown",
     "metadata": {},
     "source": [
      "Let's take a very brief look at *dictionaries*. These are unordered containers that you can use to pair elements in, similar to a `std::map` if you're a C++ coder. "
     ]
    },
    {
     "cell_type": "code",
     "collapsed": false,
     "input": [
      "pythonPoints = { \"Quentin\" : 1. / 3, \"Paul\" : 42, \"Matthew\" : 1e3 }\n",
      "print pythonPoints"
     ],
     "language": "python",
     "metadata": {},
     "outputs": [
      {
       "output_type": "stream",
       "stream": "stdout",
       "text": [
        "{'Matthew': 1000.0, 'Paul': 42, 'Quentin': 0.3333333333333333}\n"
       ]
      }
     ],
     "prompt_number": 33
    },
    {
     "cell_type": "code",
     "collapsed": false,
     "input": [
      "# Dictionaries associate keys with values\n",
      "print pythonPoints.keys()\n",
      "print pythonPoints.values()"
     ],
     "language": "python",
     "metadata": {
      "slideshow": {
       "slide_type": "subslide"
      }
     },
     "outputs": [
      {
       "output_type": "stream",
       "stream": "stdout",
       "text": [
        "['Matthew', 'Paul', 'Quentin']\n",
        "[1000.0, 42, 0.3333333333333333]\n"
       ]
      }
     ],
     "prompt_number": 34
    },
    {
     "cell_type": "code",
     "collapsed": false,
     "input": [
      "# You can access them through their keys\n",
      "print pythonPoints[\"Paul\"] * 2"
     ],
     "language": "python",
     "metadata": {},
     "outputs": [
      {
       "output_type": "stream",
       "stream": "stdout",
       "text": [
        "84\n"
       ]
      }
     ],
     "prompt_number": 35
    },
    {
     "cell_type": "code",
     "collapsed": false,
     "input": [
      "if \"Ruthie\" in pythonPoints :     # for dicts, \"in\" checks the keys\n",
      "    print \"Ruthie's here too !\"\n",
      "    \n",
      "else :\n",
      "    pythonPoints[\"Ruthie\"] = 0\n",
      "    \n",
      "print \"Ruthie has %d mad skillz.\" % pythonPoints[\"Ruthie\"]"
     ],
     "language": "python",
     "metadata": {
      "slideshow": {
       "slide_type": "subslide"
      }
     },
     "outputs": [
      {
       "output_type": "stream",
       "stream": "stdout",
       "text": [
        "Ruthie has 0 mad skillz.\n"
       ]
      }
     ],
     "prompt_number": 36
    },
    {
     "cell_type": "markdown",
     "metadata": {
      "slideshow": {
       "slide_type": "skip"
      }
     },
     "source": [
      "There are a couple of other built-in containers, like *tuples* and *sets*. I won't go into them here, plainly because I have to use them so rarely that it's not worth the time during the session. If you want to read up : `http://docs.python.org/2/tutorial/datastructures.html`"
     ]
    },
    {
     "cell_type": "heading",
     "level": 2,
     "metadata": {
      "slideshow": {
       "slide_type": "slide"
      }
     },
     "source": [
      "List Comprehension and Inlines"
     ]
    },
    {
     "cell_type": "code",
     "collapsed": false,
     "input": [
      "# Let's build a list of elements 1^2, 2^2, 3^2, ..., 10^2\n",
      "y = [i**2 for i in range(6)]\n",
      "\n",
      "print y"
     ],
     "language": "python",
     "metadata": {},
     "outputs": [
      {
       "output_type": "stream",
       "stream": "stdout",
       "text": [
        "[0, 1, 4, 9, 16, 25]\n"
       ]
      }
     ],
     "prompt_number": 37
    },
    {
     "cell_type": "code",
     "collapsed": false,
     "input": [
      "# Want to keep your index ? Use a dictionary.\n",
      "squares = { x : x**2 for x in range(6) }\n",
      "\n",
      "for key, val in zip(squares.keys(), squares.values()) :\n",
      "    print \"%d : %d\" % (key, val)"
     ],
     "language": "python",
     "metadata": {
      "slideshow": {
       "slide_type": "subslide"
      }
     },
     "outputs": [
      {
       "output_type": "stream",
       "stream": "stdout",
       "text": [
        "0 : 0\n",
        "1 : 1\n",
        "2 : 4\n",
        "3 : 9\n",
        "4 : 16\n",
        "5 : 25\n"
       ]
      }
     ],
     "prompt_number": 38
    },
    {
     "cell_type": "code",
     "collapsed": false,
     "input": [
      "# We can inline if statements too\n",
      "x = 42 if type(42) is int else 32\n",
      "\n",
      "# Note this is interpreted as \n",
      "# print (something)\n",
      "# and (something) is the result of the if statement evaluation"
     ],
     "language": "python",
     "metadata": {
      "slideshow": {
       "slide_type": "subslide"
      }
     },
     "outputs": [],
     "prompt_number": 39
    },
    {
     "cell_type": "heading",
     "level": 2,
     "metadata": {
      "slideshow": {
       "slide_type": "slide"
      }
     },
     "source": [
      "Functions"
     ]
    },
    {
     "cell_type": "code",
     "collapsed": false,
     "input": [
      "# Fibonacci numbers\n",
      "# OH NO RECURSION\n",
      "\n",
      "def fib(n) :\n",
      "    if n == 0 :\n",
      "        return 0\n",
      "    elif n == 1 :\n",
      "        return 1\n",
      "    else :\n",
      "        return fib(n-1) + fib(n-2)\n",
      "    \n",
      "print \"Done defining.\""
     ],
     "language": "python",
     "metadata": {},
     "outputs": [
      {
       "output_type": "stream",
       "stream": "stdout",
       "text": [
        "Done defining.\n"
       ]
      }
     ],
     "prompt_number": 40
    },
    {
     "cell_type": "code",
     "collapsed": false,
     "input": [
      "# Testing :\n",
      "for i in range(10) :\n",
      "    print fib(i)"
     ],
     "language": "python",
     "metadata": {
      "slideshow": {
       "slide_type": "subslide"
      }
     },
     "outputs": [
      {
       "output_type": "stream",
       "stream": "stdout",
       "text": [
        "0\n",
        "1\n",
        "1\n",
        "2\n",
        "3\n",
        "5\n",
        "8\n",
        "13\n",
        "21\n",
        "34\n"
       ]
      }
     ],
     "prompt_number": 41
    },
    {
     "cell_type": "markdown",
     "metadata": {
      "slideshow": {
       "slide_type": "skip"
      }
     },
     "source": [
      "Looks good. We've just defined a function that takes one argument, `n`, and returns something based on what `n` is. The Fibonacci function is quite particular because it calls itself ( recursion ), but it's a small, fun example, so why not."
     ]
    },
    {
     "cell_type": "code",
     "collapsed": false,
     "input": [
      "def printFib(i) :\n",
      "    print \"The %dth number of the Fibonnaci sequence is %d.\" % (i, fib(i))"
     ],
     "language": "python",
     "metadata": {
      "slideshow": {
       "slide_type": "subslide"
      }
     },
     "outputs": [],
     "prompt_number": 42
    },
    {
     "cell_type": "code",
     "collapsed": false,
     "input": [
      "printFib(20)"
     ],
     "language": "python",
     "metadata": {},
     "outputs": [
      {
       "output_type": "stream",
       "stream": "stdout",
       "text": [
        "The 20th number of the Fibonnaci sequence is 6765.\n"
       ]
      }
     ],
     "prompt_number": 43
    },
    {
     "cell_type": "markdown",
     "metadata": {
      "slideshow": {
       "slide_type": "skip"
      }
     },
     "source": [
      "Here, `%d` is a format code for *integer*. `%f` is for floating point numbers ( floats ), and `%s` is for strings.\n",
      "\n",
      "Note how, to pass more than one thing in, we had to put it into round brackets. This is a *tuple*, we mentioned it briefly in the last notebook. It's basically just an immutable list. String formatting like this takes tuples. "
     ]
    },
    {
     "cell_type": "code",
     "collapsed": false,
     "input": [
      "# I stole this one from Learn Python The Hard Way ( highly recommended ) :\n",
      "formatstring = \"Start %s %s\"\n",
      "print formatstring % (formatstring, formatstring)"
     ],
     "language": "python",
     "metadata": {
      "slideshow": {
       "slide_type": "subslide"
      }
     },
     "outputs": [
      {
       "output_type": "stream",
       "stream": "stdout",
       "text": [
        "Start Start %s %s Start %s %s\n"
       ]
      }
     ],
     "prompt_number": 44
    },
    {
     "cell_type": "markdown",
     "metadata": {},
     "source": [
      "Also worth knowing are `\\n` and `\\t` : the newline and tab characters, respectively."
     ]
    },
    {
     "cell_type": "code",
     "collapsed": false,
     "input": [
      "# Written on-the-fly, because I got mad skills\n",
      "print \"This is a haiku\\n\\tI'm awful at poetry\\nWait, this really worked\""
     ],
     "language": "python",
     "metadata": {
      "slideshow": {
       "slide_type": "fragment"
      }
     },
     "outputs": [
      {
       "output_type": "stream",
       "stream": "stdout",
       "text": [
        "This is a haiku\n",
        "\tI'm awful at poetry\n",
        "Wait, this really worked\n"
       ]
      }
     ],
     "prompt_number": 45
    },
    {
     "cell_type": "heading",
     "level": 2,
     "metadata": {
      "slideshow": {
       "slide_type": "slide"
      }
     },
     "source": [
      "File IO"
     ]
    },
    {
     "cell_type": "markdown",
     "metadata": {},
     "source": [
      "A very, *very* quick look at file IO, because there are packages that can do a better job."
     ]
    },
    {
     "cell_type": "code",
     "collapsed": false,
     "input": [
      "myfile = open(\"example.txt\", \"r\")\n",
      "for line in myfile :\n",
      "    print line.strip(\"\\n\")\n",
      "    \n",
      "# There are other options instead of looping over each line. You can instead use myfile.read().\n",
      "# Writing : you can dump a variable using myfile.write() after having opened it in \"w\" mode.\n",
      "\n",
      "# There are many other ways to read and write files, including ways to read and write CSV directly."
     ],
     "language": "python",
     "metadata": {},
     "outputs": [
      {
       "output_type": "stream",
       "stream": "stdout",
       "text": [
        "This is an example text file.\n",
        "\n",
        "It contains three lines.\n",
        "\n",
        "Maybe four.\n",
        "\n",
        "Four, definitely four.\n"
       ]
      }
     ],
     "prompt_number": 46
    },
    {
     "cell_type": "heading",
     "level": 2,
     "metadata": {
      "slideshow": {
       "slide_type": "slide"
      }
     },
     "source": [
      "Syntax Exercises"
     ]
    },
    {
     "cell_type": "heading",
     "level": 4,
     "metadata": {},
     "source": [
      "( very easy )"
     ]
    },
    {
     "cell_type": "markdown",
     "metadata": {},
     "source": [
      "- Generate a list `A` of integers from 4 to 28 inclusive in strides of 3. \n",
      "    - `range()`\n",
      "- Generate a new list `B`, squaring each element of A.\n",
      "    - list comprehensions\n",
      "    - `**` operator\n",
      "- Append a reversed version of `B` to itself\n",
      "    - `+` or `+=`\n",
      "    - `[::-1]` - be careful with `reverse`, it affects the list directly !\n",
      "- Write a function called `addflip` that will do all of this and return you the new list.\n",
      "    - `def`\n",
      "    - `return`"
     ]
    },
    {
     "cell_type": "code",
     "collapsed": false,
     "input": [
      "A = range(4, 29, 3)\n",
      "print A"
     ],
     "language": "python",
     "metadata": {
      "slideshow": {
       "slide_type": "subslide"
      }
     },
     "outputs": [
      {
       "output_type": "stream",
       "stream": "stdout",
       "text": [
        "[4, 7, 10, 13, 16, 19, 22, 25, 28]\n"
       ]
      }
     ],
     "prompt_number": 47
    },
    {
     "cell_type": "code",
     "collapsed": false,
     "input": [
      "B = [a**2 for a in A]\n",
      "print B"
     ],
     "language": "python",
     "metadata": {
      "slideshow": {
       "slide_type": "fragment"
      }
     },
     "outputs": [
      {
       "output_type": "stream",
       "stream": "stdout",
       "text": [
        "[16, 49, 100, 169, 256, 361, 484, 625, 784]\n"
       ]
      }
     ],
     "prompt_number": 48
    },
    {
     "cell_type": "code",
     "collapsed": false,
     "input": [
      "B += B[::-1]\n",
      "print B"
     ],
     "language": "python",
     "metadata": {
      "slideshow": {
       "slide_type": "fragment"
      }
     },
     "outputs": [
      {
       "output_type": "stream",
       "stream": "stdout",
       "text": [
        "[16, 49, 100, 169, 256, 361, 484, 625, 784, 784, 625, 484, 361, 256, 169, 100, 49, 16]\n"
       ]
      }
     ],
     "prompt_number": 49
    },
    {
     "cell_type": "code",
     "collapsed": false,
     "input": [
      "def addflip(mylist) :\n",
      "    squared = [element**2 for element in mylist]\n",
      "    return squared + squared[::-1]\n",
      "\n",
      "print addflip(range(5))"
     ],
     "language": "python",
     "metadata": {
      "slideshow": {
       "slide_type": "fragment"
      }
     },
     "outputs": [
      {
       "output_type": "stream",
       "stream": "stdout",
       "text": [
        "[0, 1, 4, 9, 16, 16, 9, 4, 1, 0]\n"
       ]
      }
     ],
     "prompt_number": 50
    }
   ],
   "metadata": {}
  }
 ]
}